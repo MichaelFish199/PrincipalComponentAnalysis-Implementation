{
 "cells": [
  {
   "cell_type": "markdown",
   "id": "e8abb3c3",
   "metadata": {},
   "source": [
    "# Principal Component Analysys (PCA)"
   ]
  },
  {
   "cell_type": "code",
   "execution_count": 1,
   "id": "307fcb72",
   "metadata": {},
   "outputs": [],
   "source": [
    "import numpy as np"
   ]
  },
  {
   "cell_type": "code",
   "execution_count": 2,
   "id": "40e0c3b3",
   "metadata": {},
   "outputs": [
    {
     "data": {
      "text/plain": [
       "array([[  1.1,  20.1,   2.3, 122.3],\n",
       "       [  1.3,  30. ,   3.3, 130.3],\n",
       "       [  1.6,  30.6,   3.5, 130.5],\n",
       "       [  1.4,  30.2,   3.2, 137. ],\n",
       "       [  2.4,  40. ,   4.2, 142.2],\n",
       "       [  2.8,  40.5,   4.5, 146.5],\n",
       "       [  3.1,  41. ,   4. , 149. ],\n",
       "       [  3.4,  43.4,   4.1, 152. ],\n",
       "       [  3.8,  46.2,   4.4, 157.4],\n",
       "       [  4. ,  48. ,   4.8, 159.8],\n",
       "       [  3.6,  50.3,   5.3, 165.3],\n",
       "       [  4.1,  60. ,   6. , 168. ],\n",
       "       [  3.9,  62. ,   6.1, 169.1],\n",
       "       [  4.6,  64.2,   6.3, 176.3]])"
      ]
     },
     "execution_count": 2,
     "metadata": {},
     "output_type": "execute_result"
    }
   ],
   "source": [
    "# Creating data\n",
    "x = np.array([1.1, 1.3, 1.6, 1.4, 2.4, 2.8, 3.1, 3.4, 3.8, 4, 3.6, 4.1, 3.9, 4.6]) # x vector\n",
    "y = np.array([20.1, 30, 30.6, 30.2, 40.0, 40.5, 41, 43.4, 46.2, 48, 50.3, 60, 62, 64.2]) # y vector\n",
    "z = np.array([2.3, 3.3, 3.5, 3.2, 4.2, 4.5, 4, 4.1, 4.4, 4.8, 5.3, 6, 6.1, 6.3]) # z vector\n",
    "g = np.array([122.3, 130.3, 130.5, 137, 142.2, 146.5, 149, 152, 157.4, 159.8, 165.3, 168, 169.1, 176.3]) # g vector\n",
    "\n",
    "X = np.vstack([x, y, z, g]).T # creating matrix out of my feature vectors\n",
    "X"
   ]
  },
  {
   "cell_type": "code",
   "execution_count": 3,
   "id": "74cfbf89",
   "metadata": {},
   "outputs": [
    {
     "data": {
      "text/plain": [
       "(14, 4)"
      ]
     },
     "execution_count": 3,
     "metadata": {},
     "output_type": "execute_result"
    }
   ],
   "source": [
    "rows, cols = X.shape # saving dimensions\n",
    "X.shape"
   ]
  },
  {
   "cell_type": "markdown",
   "id": "496b33de",
   "metadata": {},
   "source": [
    "# Feature Scaling"
   ]
  },
  {
   "cell_type": "code",
   "execution_count": 4,
   "id": "d0c4bd28",
   "metadata": {},
   "outputs": [],
   "source": [
    "for j in range(cols): # iterating through columns\n",
    "    mini = X[:,j].min() # minimum of current column\n",
    "    maxi = X[:,j].max() # maximum of current column\n",
    "    for i in range(rows): # iterating through rows\n",
    "        X[i,j] = (X[i,j] - mini) / (maxi - mini) # scaling\n",
    "\n",
    "Orginal_data = X # will be used later"
   ]
  },
  {
   "cell_type": "markdown",
   "id": "67a9cfeb",
   "metadata": {},
   "source": [
    "# Mean Normalization"
   ]
  },
  {
   "cell_type": "code",
   "execution_count": 5,
   "id": "7a8ad2c3",
   "metadata": {},
   "outputs": [
    {
     "data": {
      "text/plain": [
       "array([[-0.5244898 , -0.52656301, -0.53214286, -0.52050265],\n",
       "       [-0.46734694, -0.30207321, -0.28214286, -0.3723545 ],\n",
       "       [-0.38163265, -0.28846777, -0.23214286, -0.36865079],\n",
       "       [-0.43877551, -0.29753806, -0.30714286, -0.24828042],\n",
       "       [-0.15306122, -0.07531584, -0.05714286, -0.15198413],\n",
       "       [-0.03877551, -0.06397797,  0.01785714, -0.0723545 ],\n",
       "       [ 0.04693878, -0.0526401 , -0.10714286, -0.0260582 ],\n",
       "       [ 0.13265306,  0.00178167, -0.08214286,  0.02949735],\n",
       "       [ 0.24693878,  0.06527373, -0.00714286,  0.12949735],\n",
       "       [ 0.30408163,  0.10609006,  0.09285714,  0.1739418 ],\n",
       "       [ 0.18979592,  0.15824425,  0.21785714,  0.27579365],\n",
       "       [ 0.33265306,  0.3781989 ,  0.39285714,  0.32579365],\n",
       "       [ 0.2755102 ,  0.42355037,  0.41785714,  0.34616402],\n",
       "       [ 0.4755102 ,  0.47343699,  0.46785714,  0.47949735]])"
      ]
     },
     "execution_count": 5,
     "metadata": {},
     "output_type": "execute_result"
    }
   ],
   "source": [
    "for j in range(cols): # iterating through columns\n",
    "    mean = X[:,j].mean() # mean of current column\n",
    "    for i in range(rows): # iterating through rows\n",
    "        X[i,j] = X[i,j] - mean # subtracting mean\n",
    "\n",
    "X"
   ]
  },
  {
   "cell_type": "code",
   "execution_count": 6,
   "id": "a04303ef",
   "metadata": {},
   "outputs": [
    {
     "name": "stdout",
     "output_type": "stream",
     "text": [
      "now means of our features are equal to 0\n",
      "X[:,j].mean().round() = 0.0\n",
      "X[:,j].mean().round() = -0.0\n",
      "X[:,j].mean().round() = 0.0\n",
      "X[:,j].mean().round() = 0.0\n"
     ]
    }
   ],
   "source": [
    "print(\"now means of our features are equal to 0\")\n",
    "for j in range(cols):\n",
    "    print(f\"{X[:,j].mean().round() = }\")"
   ]
  },
  {
   "cell_type": "markdown",
   "id": "b3c8a8b5",
   "metadata": {},
   "source": [
    "# Calculating Covariance Matrix"
   ]
  },
  {
   "cell_type": "code",
   "execution_count": 7,
   "id": "b9a62cff",
   "metadata": {},
   "outputs": [
    {
     "data": {
      "text/plain": [
       "(4, 4)"
      ]
     },
     "execution_count": 7,
     "metadata": {},
     "output_type": "execute_result"
    }
   ],
   "source": [
    "X = X.T\n",
    "X_cov = np.cov(X) # creating covariance matrix OR X @ X.T\n",
    "X_cov.shape"
   ]
  },
  {
   "cell_type": "markdown",
   "id": "b54723e3",
   "metadata": {},
   "source": [
    "# Calculating Eigectors and Eigenvalues"
   ]
  },
  {
   "cell_type": "code",
   "execution_count": 8,
   "id": "c70f6f6a",
   "metadata": {},
   "outputs": [
    {
     "data": {
      "text/plain": [
       "array([[ 0.53950846,  0.48347554,  0.47423729,  0.50028094],\n",
       "       [ 0.73149467, -0.30906677, -0.60237576,  0.08084998],\n",
       "       [ 0.4041958 ,  0.11914566,  0.31559178, -0.85019521],\n",
       "       [ 0.10233241, -0.81026752,  0.55914601,  0.14265471]])"
      ]
     },
     "execution_count": 8,
     "metadata": {},
     "output_type": "execute_result"
    }
   ],
   "source": [
    "eig_val, eig_vec = np.linalg.eig(X_cov) # can also use np.linalg.svd(X_cov)\n",
    "eig_vec = eig_vec.T\n",
    "eig_vec"
   ]
  },
  {
   "cell_type": "markdown",
   "id": "b10a8695",
   "metadata": {},
   "source": [
    "# Transforming Original Data Into K Dimensional"
   ]
  },
  {
   "cell_type": "code",
   "execution_count": 9,
   "id": "2126ea34",
   "metadata": {},
   "outputs": [],
   "source": [
    "N = 3 # how many features do I want back\n",
    "\n",
    "components = eig_vec[:N, :]"
   ]
  },
  {
   "cell_type": "code",
   "execution_count": 10,
   "id": "d668bf01",
   "metadata": {},
   "outputs": [
    {
     "data": {
      "text/plain": [
       "array([[-0.53950846, -0.48347554, -0.47423729, -0.50028094],\n",
       "       [ 0.73149467, -0.30906677, -0.60237576,  0.08084998],\n",
       "       [-0.4041958 , -0.11914566, -0.31559178,  0.85019521]])"
      ]
     },
     "execution_count": 10,
     "metadata": {},
     "output_type": "execute_result"
    }
   ],
   "source": [
    "# Fixing small error\n",
    "for i in range(components.shape[0]): \n",
    "    if i % 2 == 0:\n",
    "        components[i, :] *= -1 # multiplying by -1 odd rows\n",
    "    \n",
    "components"
   ]
  },
  {
   "cell_type": "code",
   "execution_count": 11,
   "id": "3cc97442",
   "metadata": {},
   "outputs": [
    {
     "data": {
      "text/plain": [
       "array([[ 1.05030655e+00,  5.75489687e-02,  1.45325590e-04],\n",
       "       [ 7.18267157e-01, -1.08649838e-01, -2.64166147e-03],\n",
       "       [ 6.39880920e-01, -7.99746290e-02, -5.15387629e-02],\n",
       "       [ 6.50444035e-01, -6.40608729e-02,  9.86465219e-02],\n",
       "       [ 2.22125228e-01, -6.65522879e-02, -4.03421011e-02],\n",
       "       [ 7.95805532e-02, -2.51971836e-02, -4.38554182e-02],\n",
       "       [ 6.39738948e-02,  1.13038226e-01, -1.04176880e-03],\n",
       "       [-4.82305993e-02,  1.48350080e-01, -2.82796803e-03],\n",
       "       [-2.26181459e-01,  1.75233000e-01,  4.76355993e-03],\n",
       "       [-3.46402647e-01,  1.47773482e-01, -1.69691552e-02],\n",
       "       [-4.20194015e-01, -1.90072877e-02,  7.01556887e-02],\n",
       "       [-7.11614917e-01, -8.38619821e-02, -2.65120116e-02],\n",
       "       [-7.24759030e-01, -1.53090761e-01,  6.10456628e-04],\n",
       "       [-9.47195674e-01, -4.15489147e-02,  1.14072946e-02]])"
      ]
     },
     "execution_count": 11,
     "metadata": {},
     "output_type": "execute_result"
    }
   ],
   "source": [
    "new_data1 = np.dot(components, X).T # or eig_vec_1d @ X\n",
    "new_data1"
   ]
  },
  {
   "cell_type": "markdown",
   "id": "96adca53",
   "metadata": {},
   "source": [
    "# Testing Results Using PCA From Sklearn"
   ]
  },
  {
   "cell_type": "code",
   "execution_count": 12,
   "id": "cd6e0515",
   "metadata": {},
   "outputs": [
    {
     "data": {
      "text/plain": [
       "array([[ 1.05030655e+00,  5.75489687e-02,  1.45325590e-04],\n",
       "       [ 7.18267157e-01, -1.08649838e-01, -2.64166147e-03],\n",
       "       [ 6.39880920e-01, -7.99746290e-02, -5.15387629e-02],\n",
       "       [ 6.50444035e-01, -6.40608729e-02,  9.86465219e-02],\n",
       "       [ 2.22125228e-01, -6.65522879e-02, -4.03421011e-02],\n",
       "       [ 7.95805532e-02, -2.51971836e-02, -4.38554182e-02],\n",
       "       [ 6.39738948e-02,  1.13038226e-01, -1.04176880e-03],\n",
       "       [-4.82305993e-02,  1.48350080e-01, -2.82796803e-03],\n",
       "       [-2.26181459e-01,  1.75233000e-01,  4.76355993e-03],\n",
       "       [-3.46402647e-01,  1.47773482e-01, -1.69691552e-02],\n",
       "       [-4.20194015e-01, -1.90072877e-02,  7.01556887e-02],\n",
       "       [-7.11614917e-01, -8.38619821e-02, -2.65120116e-02],\n",
       "       [-7.24759030e-01, -1.53090761e-01,  6.10456628e-04],\n",
       "       [-9.47195674e-01, -4.15489147e-02,  1.14072946e-02]])"
      ]
     },
     "execution_count": 12,
     "metadata": {},
     "output_type": "execute_result"
    }
   ],
   "source": [
    "from sklearn.decomposition import PCA\n",
    "\n",
    "pca = PCA(n_components=3)\n",
    "new_data2 = pca.fit_transform(Orginal_data)\n",
    "new_data2"
   ]
  },
  {
   "cell_type": "code",
   "execution_count": 13,
   "id": "ac72334c",
   "metadata": {},
   "outputs": [
    {
     "name": "stdout",
     "output_type": "stream",
     "text": [
      "Is equal: \n",
      "[ True  True  True] [1.050307e+00 5.754900e-02 1.450000e-04] [1.050307e+00 5.754900e-02 1.450000e-04]\n",
      "[ True  True  True] [ 0.718267 -0.10865  -0.002642] [ 0.718267 -0.10865  -0.002642]\n",
      "[ True  True  True] [ 0.639881 -0.079975 -0.051539] [ 0.639881 -0.079975 -0.051539]\n",
      "[ True  True  True] [ 0.650444 -0.064061  0.098647] [ 0.650444 -0.064061  0.098647]\n",
      "[ True  True  True] [ 0.222125 -0.066552 -0.040342] [ 0.222125 -0.066552 -0.040342]\n",
      "[ True  True  True] [ 0.079581 -0.025197 -0.043855] [ 0.079581 -0.025197 -0.043855]\n",
      "[ True  True  True] [ 0.063974  0.113038 -0.001042] [ 0.063974  0.113038 -0.001042]\n",
      "[ True  True  True] [-0.048231  0.14835  -0.002828] [-0.048231  0.14835  -0.002828]\n",
      "[ True  True  True] [-0.226181  0.175233  0.004764] [-0.226181  0.175233  0.004764]\n",
      "[ True  True  True] [-0.346403  0.147773 -0.016969] [-0.346403  0.147773 -0.016969]\n",
      "[ True  True  True] [-0.420194 -0.019007  0.070156] [-0.420194 -0.019007  0.070156]\n",
      "[ True  True  True] [-0.711615 -0.083862 -0.026512] [-0.711615 -0.083862 -0.026512]\n",
      "[ True  True  True] [-7.24759e-01 -1.53091e-01  6.10000e-04] [-7.24759e-01 -1.53091e-01  6.10000e-04]\n",
      "[ True  True  True] [-0.947196 -0.041549  0.011407] [-0.947196 -0.041549  0.011407]\n"
     ]
    }
   ],
   "source": [
    "# Checking equality of numbers\n",
    "\n",
    "data1 = np.round(new_data1, 6) # removing floating point error\n",
    "data2 = np.round(new_data2, 6) \n",
    "\n",
    "print(\"Is equal: \")\n",
    "for i, j in zip (data1, data2):\n",
    "    print(i == j, i, j)"
   ]
  }
 ],
 "metadata": {
  "kernelspec": {
   "display_name": "Python 3 (ipykernel)",
   "language": "python",
   "name": "python3"
  },
  "language_info": {
   "codemirror_mode": {
    "name": "ipython",
    "version": 3
   },
   "file_extension": ".py",
   "mimetype": "text/x-python",
   "name": "python",
   "nbconvert_exporter": "python",
   "pygments_lexer": "ipython3",
   "version": "3.9.12"
  }
 },
 "nbformat": 4,
 "nbformat_minor": 5
}
