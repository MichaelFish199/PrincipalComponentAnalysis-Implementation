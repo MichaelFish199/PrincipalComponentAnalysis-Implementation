{
 "cells": [
  {
   "cell_type": "markdown",
   "id": "e8abb3c3",
   "metadata": {},
   "source": [
    "# PCA Class"
   ]
  },
  {
   "cell_type": "code",
   "execution_count": 8,
   "id": "307fcb72",
   "metadata": {},
   "outputs": [],
   "source": [
    "import numpy as np\n",
    "from sklearn import datasets"
   ]
  },
  {
   "cell_type": "code",
   "execution_count": 71,
   "id": "7719f514",
   "metadata": {},
   "outputs": [],
   "source": [
    "class MYPCA():\n",
    "    \"\"\"\n",
    "    My PCA class\n",
    "    \"\"\"\n",
    "    \n",
    "    def __init__(self, n_components=2):\n",
    "        self.n_components = n_components\n",
    "    \n",
    "    \n",
    "    def fit(self, data):\n",
    "        data = data.T\n",
    "        data_cov = np.cov(data)\n",
    "        _, eig_vec = np.linalg.eig(data_cov)\n",
    "        self.eig_vec = eig_vec\n",
    "    \n",
    "    \n",
    "    def transform(self, data):\n",
    "        data = data.T\n",
    "        components = self.eig_vec[:self.n_components, :]\n",
    "    \n",
    "        # Fixing small error ;-;\n",
    "        for i in range(components.shape[0]): \n",
    "            if i % 2 == 0:\n",
    "                components[i, :] *= -1 # multiplying by -1 odd rows\n",
    "    \n",
    "        return np.dot(components, data).T\n",
    "    \n",
    "\n",
    "    def fit_transform(self, data):\n",
    "        eig_vec = fit(data)\n",
    "        transform(eig_vec)"
   ]
  },
  {
   "cell_type": "code",
   "execution_count": 72,
   "id": "40e0c3b3",
   "metadata": {
    "scrolled": true
   },
   "outputs": [
    {
     "data": {
      "text/plain": [
       "(150, 4)"
      ]
     },
     "execution_count": 72,
     "metadata": {},
     "output_type": "execute_result"
    }
   ],
   "source": [
    "# Loading dataset\n",
    "X, _ = datasets.load_iris(return_X_y=True)\n",
    "\n",
    "X.shape"
   ]
  },
  {
   "cell_type": "code",
   "execution_count": 73,
   "id": "62b318ae",
   "metadata": {},
   "outputs": [],
   "source": [
    "from sklearn.preprocessing import StandardScaler\n",
    "\n",
    "scaled_X = StandardScaler().fit_transform(X)"
   ]
  },
  {
   "cell_type": "markdown",
   "id": "b3c8a8b5",
   "metadata": {},
   "source": [
    "# Comparing with PCA from skleran"
   ]
  },
  {
   "cell_type": "code",
   "execution_count": 74,
   "id": "33b44aa7",
   "metadata": {},
   "outputs": [
    {
     "data": {
      "text/plain": [
       "array([[-2.26470281,  0.4800266 ],\n",
       "       [-2.08096115, -0.67413356],\n",
       "       [-2.36422905, -0.34190802]])"
      ]
     },
     "execution_count": 74,
     "metadata": {},
     "output_type": "execute_result"
    }
   ],
   "source": [
    "mypca = MYPCA(2)\n",
    "\n",
    "mypca.fit(scaled_X)\n",
    "\n",
    "mypcadata = pca.fit_transform(scaled_X)\n",
    "\n",
    "mypcadata[:3]"
   ]
  },
  {
   "cell_type": "code",
   "execution_count": 75,
   "id": "cd6e0515",
   "metadata": {},
   "outputs": [
    {
     "data": {
      "text/plain": [
       "array([[-2.26470281,  0.4800266 ],\n",
       "       [-2.08096115, -0.67413356],\n",
       "       [-2.36422905, -0.34190802]])"
      ]
     },
     "execution_count": 75,
     "metadata": {},
     "output_type": "execute_result"
    }
   ],
   "source": [
    "from sklearn.decomposition import PCA\n",
    "\n",
    "pca = PCA(2)\n",
    "\n",
    "pcadata = pca.fit_transform(scaled_X)\n",
    "\n",
    "pcadata[:3]"
   ]
  }
 ],
 "metadata": {
  "kernelspec": {
   "display_name": "Python 3 (ipykernel)",
   "language": "python",
   "name": "python3"
  },
  "language_info": {
   "codemirror_mode": {
    "name": "ipython",
    "version": 3
   },
   "file_extension": ".py",
   "mimetype": "text/x-python",
   "name": "python",
   "nbconvert_exporter": "python",
   "pygments_lexer": "ipython3",
   "version": "3.9.12"
  }
 },
 "nbformat": 4,
 "nbformat_minor": 5
}
